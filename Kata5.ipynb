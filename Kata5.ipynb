{
 "cells": [
  {
   "cell_type": "code",
   "execution_count": 20,
   "metadata": {},
   "outputs": [
    {
     "name": "stdout",
     "output_type": "stream",
     "text": [
      "628949330\n",
      "390577534\n"
     ]
    }
   ],
   "source": [
    "tierra = 149597870 #km\n",
    "jupiter = 778547200 #km\n",
    "\n",
    "distancia_km = (abs(tierra - jupiter))\n",
    "distancia_milla = round(abs(distancia_km * 0.621))\n",
    "print(distancia_km)\n",
    "print(distancia_milla)\n"
   ]
  },
  {
   "cell_type": "code",
   "execution_count": 23,
   "metadata": {},
   "outputs": [
    {
     "name": "stdout",
     "output_type": "stream",
     "text": [
      "-50300000\n",
      "9292200\n"
     ]
    }
   ],
   "source": [
    "planeta1 = int(input('Ingresa la primer distancia: '))\n",
    "planeta2 = int(input('Ingresa la segunda distancia: '))\n",
    "\n",
    "distancia_km = abs(planeta1 -planeta2)\n",
    "distancia_milla = round(abs(planeta1 -planeta2 * 0.621))\n",
    "\n",
    "print(distancia_km)\n",
    "print(distancia_milla)"
   ]
  }
 ],
 "metadata": {
  "interpreter": {
   "hash": "25bf1dab56f13e21d80318cd5e789e076f92a14fa9924f370a2a818164c863f4"
  },
  "kernelspec": {
   "display_name": "Python 3.9.2 64-bit",
   "language": "python",
   "name": "python3"
  },
  "language_info": {
   "codemirror_mode": {
    "name": "ipython",
    "version": 3
   },
   "file_extension": ".py",
   "mimetype": "text/x-python",
   "name": "python",
   "nbconvert_exporter": "python",
   "pygments_lexer": "ipython3",
   "version": "3.9.2"
  },
  "orig_nbformat": 4
 },
 "nbformat": 4,
 "nbformat_minor": 2
}
