{
 "cells": [
  {
   "cell_type": "code",
   "execution_count": 5,
   "metadata": {},
   "outputs": [
    {
     "name": "stdout",
     "output_type": "stream",
     "text": [
      "Advertencia!, un asteroide se aproxima con velocidad de: 49km/s\n"
     ]
    }
   ],
   "source": [
    "asteroideVelocidad = 49\n",
    "if asteroideVelocidad > 25:\n",
    "    print(\"¡Advertencia!, un asteroide se aproxima con velocidad de: \" + str(asteroideVelocidad) + \"km/s\")\n",
    "else:\n",
    "    print(\"No hay de que alarmarse\")"
   ]
  },
  {
   "cell_type": "code",
   "execution_count": 9,
   "metadata": {},
   "outputs": [
    {
     "name": "stdout",
     "output_type": "stream",
     "text": [
      "No hay de que alarmarse\n"
     ]
    }
   ],
   "source": [
    "asteroideVelocidad = 19\n",
    "if asteroideVelocidad > 20:\n",
    "    print(\"¡Alerta! ¡deben buscar un asteroide en el cielo!\")\n",
    "elif asteroideVelocidad == 20:\n",
    "    print(\"¡Alerta! ¡deben buscar un asteroide en el cielo!\")\n",
    "else:\n",
    "    print(\"No hay de que alarmarse\")"
   ]
  },
  {
   "cell_type": "code",
   "execution_count": 13,
   "metadata": {},
   "outputs": [
    {
     "name": "stdout",
     "output_type": "stream",
     "text": [
      "Un asteride de 30 metros se dirije a la tierra a 30km/s y podrá causar mucho daño\n"
     ]
    }
   ],
   "source": [
    "asteroideVelocidad = 30\n",
    "asteroideDimension = 30\n",
    "if asteroideDimension > 25 and asteroideVelocidad > 25:\n",
    "    print(\"Un asteride de \" + str(asteroideDimension) + \" metros se dirije a la tierra a \"+str(asteroideVelocidad)+\"km/s y podrá causar mucho daño\")\n",
    "elif asteroideVelocidad >= 20:\n",
    "        print(\"Se podrá ver el rayo de luz de un asteride desde la Tierra\")\n",
    "elif asteroideDimension < 25:\n",
    "    print(\"No hay nada de que preocuparse\")\n",
    "else:\n",
    "    print(\"No hay nada de que preocuparse\")\n",
    "    "
   ]
  }
 ],
 "metadata": {
  "interpreter": {
   "hash": "25bf1dab56f13e21d80318cd5e789e076f92a14fa9924f370a2a818164c863f4"
  },
  "kernelspec": {
   "display_name": "Python 3.9.2 64-bit",
   "language": "python",
   "name": "python3"
  },
  "language_info": {
   "codemirror_mode": {
    "name": "ipython",
    "version": 3
   },
   "file_extension": ".py",
   "mimetype": "text/x-python",
   "name": "python",
   "nbconvert_exporter": "python",
   "pygments_lexer": "ipython3",
   "version": "3.9.2"
  },
  "orig_nbformat": 4
 },
 "nbformat": 4,
 "nbformat_minor": 2
}
