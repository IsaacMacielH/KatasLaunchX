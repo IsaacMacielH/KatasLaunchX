{
 "cells": [
  {
   "cell_type": "code",
   "execution_count": 33,
   "metadata": {},
   "outputs": [
    {
     "name": "stdout",
     "output_type": "stream",
     "text": [
      " \n",
      "On average, the Moon moves 4cm away from the Earth every year\n",
      " The highest daylight temperature of the Moon is 127 Celcius\n"
     ]
    }
   ],
   "source": [
    "text = \"\"\"Interesting facts about the Moon. The Moon is Earth's only satellite. There are several interesting facts about the Moon and how it affects life here on Earth. \n",
    "On average, the Moon moves 4cm away from the Earth every year. This yearly drift is not significant enough to cause immediate effects on Earth. The highest daylight temperature of the Moon is 127 C.\"\"\"\n",
    "\n",
    "new_text = text.split('.')\n",
    "palabras = [\"average\", \"temperature\", \"distance\"]\n",
    "\n",
    "#average = 'average'\n",
    "#temperature = 'temperature'\n",
    "#distance = 'distance'\n",
    "\n",
    "for item in new_text:\n",
    "    for palabra in palabras:\n",
    "        if palabra in item:\n",
    "            print(item.replace('C', 'Celcius'))\n",
    "            break\n",
    "    \n",
    "    #print(item)\n",
    "    #if item.find(average) !=-1 or item.find(temperature) !=-1 or item.find(distance) !=-1:\n",
    "        #if item.find(temperature) != -1:\n",
    "            #print(item.replace('C','Celcius'))\n",
    "        #else:\n",
    "            #print(item)"
   ]
  },
  {
   "cell_type": "code",
   "execution_count": 5,
   "metadata": {},
   "outputs": [
    {
     "name": "stdout",
     "output_type": "stream",
     "text": [
      "Gravity Facts About Ganímedes\n",
      "------------------------------------\n",
      "Planet name: Marte\n",
      "Gravity on Ganímedes: 1.4300000000000002 m/s2\n",
      "\n",
      "\n",
      "Gravity Facts about Ganímedes\n",
      "------------------------------------\n",
      "Planet name: Marte\n",
      "Gravity on Ganímedes: 1.4300000000000002 m/s2\n",
      "\n"
     ]
    }
   ],
   "source": [
    "name = \"Ganímedes\"\n",
    "gravity = 0.00143 # *1000 sin kms\n",
    "planet = \"Marte\"\n",
    "\n",
    "titulo = f'Gravity Facts about {name}'\n",
    "facts = f\"\"\"{'------------------------------------'}\n",
    "Planet name: {planet}\n",
    "Gravity on {name}: {gravity*1000} m/s2\n",
    "\"\"\"\n",
    "plantilla = f\"\"\"{titulo.title()}\n",
    "{facts}\n",
    "\"\"\"\n",
    "plantilla2 = \"\"\"Gravity Facts about {name}\n",
    "------------------------------------\n",
    "Planet name: {planet}\n",
    "Gravity on {name}: {gravity} m/s2\n",
    "\"\"\".format(name=name, planet=planet, gravity=gravity*1000)\n",
    "\n",
    "print(plantilla)\n",
    "print(plantilla2)"
   ]
  }
 ],
 "metadata": {
  "interpreter": {
   "hash": "25bf1dab56f13e21d80318cd5e789e076f92a14fa9924f370a2a818164c863f4"
  },
  "kernelspec": {
   "display_name": "Python 3.9.2 64-bit",
   "language": "python",
   "name": "python3"
  },
  "language_info": {
   "codemirror_mode": {
    "name": "ipython",
    "version": 3
   },
   "file_extension": ".py",
   "mimetype": "text/x-python",
   "name": "python",
   "nbconvert_exporter": "python",
   "pygments_lexer": "ipython3",
   "version": "3.9.2"
  },
  "orig_nbformat": 4
 },
 "nbformat": 4,
 "nbformat_minor": 2
}
