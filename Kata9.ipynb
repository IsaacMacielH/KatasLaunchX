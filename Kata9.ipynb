{
 "cells": [
  {
   "cell_type": "markdown",
   "metadata": {},
   "source": [
    "## Ejercicio 1: Trabajar con argumentos en funciones"
   ]
  },
  {
   "cell_type": "code",
   "execution_count": 11,
   "metadata": {},
   "outputs": [
    {
     "name": "stdout",
     "output_type": "stream",
     "text": [
      "Tank 1: 40 \n",
      "Tank 2: 50 \n",
      "Tank 3: 60\n",
      "Fuel average:  50.0\n"
     ]
    }
   ],
   "source": [
    "def fuel(tank1, tank2, tank3):\n",
    "    print(f'Tank 1: {tank1} \\nTank 2: {tank2} \\nTank 3: {tank3}')\n",
    "    average((tank1 + tank2 + tank3),3)\n",
    "    \n",
    "def average(comb, noTanks):\n",
    "    avr = comb / noTanks\n",
    "    print('Fuel average: ', avr)\n",
    "\n",
    "fuel(40, 50 ,60)"
   ]
  },
  {
   "cell_type": "markdown",
   "metadata": {},
   "source": [
    "## Ejercicio 2: Trabajo con argumentos de palabra clave"
   ]
  },
  {
   "cell_type": "code",
   "execution_count": 18,
   "metadata": {},
   "outputs": [
    {
     "name": "stdout",
     "output_type": "stream",
     "text": [
      "Mission to: Moon\n",
      "    Total time: 74 minutes\n",
      "    Tank fuel: 500000\n",
      "main tank has 300000 of fuel\n",
      "external tank has 200000 of fuel\n"
     ]
    }
   ],
   "source": [
    "def information(destination, *minutes, **fuel_reservoirs):\n",
    "    report= f'''Mission to: {destination}\n",
    "    Total time: {sum(minutes)} minutes\n",
    "    Tank fuel: {sum(fuel_reservoirs.values())}'''\n",
    "    for tank, fuel in fuel_reservoirs.items():\n",
    "        report += f'\\n{tank} tank has {fuel} of fuel'\n",
    "    print(report)\n",
    "    \n",
    "information(\"Moon\", 8, 11, 55, main=300000, external=200000)"
   ]
  }
 ],
 "metadata": {
  "interpreter": {
   "hash": "25bf1dab56f13e21d80318cd5e789e076f92a14fa9924f370a2a818164c863f4"
  },
  "kernelspec": {
   "display_name": "Python 3.9.2 64-bit",
   "language": "python",
   "name": "python3"
  },
  "language_info": {
   "codemirror_mode": {
    "name": "ipython",
    "version": 3
   },
   "file_extension": ".py",
   "mimetype": "text/x-python",
   "name": "python",
   "nbconvert_exporter": "python",
   "pygments_lexer": "ipython3",
   "version": "3.9.2"
  },
  "orig_nbformat": 4
 },
 "nbformat": 4,
 "nbformat_minor": 2
}
